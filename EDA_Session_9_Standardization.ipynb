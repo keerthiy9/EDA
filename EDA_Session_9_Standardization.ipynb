{
 "cells": [
  {
   "cell_type": "markdown",
   "id": "a01bbf56-3bf3-46bd-801a-3890636774d7",
   "metadata": {},
   "source": [
    "# 11-06-2024"
   ]
  },
  {
   "cell_type": "code",
   "execution_count": 1,
   "id": "c94dfbd2-13c4-4781-a138-1c1ba2ee4420",
   "metadata": {},
   "outputs": [],
   "source": [
    "import pandas as pd\n",
    "import numpy as no\n",
    "import matplotlib.pyplot as plt\n",
    "import seaborn as sns"
   ]
  },
  {
   "cell_type": "code",
   "execution_count": 2,
   "id": "a3977969-94eb-43ed-bbc6-f5fd9459e3ce",
   "metadata": {},
   "outputs": [
    {
     "data": {
      "text/html": [
       "<div>\n",
       "<style scoped>\n",
       "    .dataframe tbody tr th:only-of-type {\n",
       "        vertical-align: middle;\n",
       "    }\n",
       "\n",
       "    .dataframe tbody tr th {\n",
       "        vertical-align: top;\n",
       "    }\n",
       "\n",
       "    .dataframe thead th {\n",
       "        text-align: right;\n",
       "    }\n",
       "</style>\n",
       "<table border=\"1\" class=\"dataframe\">\n",
       "  <thead>\n",
       "    <tr style=\"text-align: right;\">\n",
       "      <th></th>\n",
       "      <th>case_id</th>\n",
       "      <th>continent</th>\n",
       "      <th>education_of_employee</th>\n",
       "      <th>has_job_experience</th>\n",
       "      <th>requires_job_training</th>\n",
       "      <th>no_of_employees</th>\n",
       "      <th>yr_of_estab</th>\n",
       "      <th>region_of_employment</th>\n",
       "      <th>prevailing_wage</th>\n",
       "      <th>unit_of_wage</th>\n",
       "      <th>full_time_position</th>\n",
       "      <th>case_status</th>\n",
       "    </tr>\n",
       "  </thead>\n",
       "  <tbody>\n",
       "    <tr>\n",
       "      <th>0</th>\n",
       "      <td>EZYV01</td>\n",
       "      <td>Asia</td>\n",
       "      <td>High School</td>\n",
       "      <td>N</td>\n",
       "      <td>N</td>\n",
       "      <td>14513</td>\n",
       "      <td>2007</td>\n",
       "      <td>West</td>\n",
       "      <td>592.2029</td>\n",
       "      <td>Hour</td>\n",
       "      <td>Y</td>\n",
       "      <td>Denied</td>\n",
       "    </tr>\n",
       "    <tr>\n",
       "      <th>1</th>\n",
       "      <td>EZYV02</td>\n",
       "      <td>Asia</td>\n",
       "      <td>Master's</td>\n",
       "      <td>Y</td>\n",
       "      <td>N</td>\n",
       "      <td>2412</td>\n",
       "      <td>2002</td>\n",
       "      <td>Northeast</td>\n",
       "      <td>83425.6500</td>\n",
       "      <td>Year</td>\n",
       "      <td>Y</td>\n",
       "      <td>Certified</td>\n",
       "    </tr>\n",
       "  </tbody>\n",
       "</table>\n",
       "</div>"
      ],
      "text/plain": [
       "  case_id continent education_of_employee has_job_experience  \\\n",
       "0  EZYV01      Asia           High School                  N   \n",
       "1  EZYV02      Asia              Master's                  Y   \n",
       "\n",
       "  requires_job_training  no_of_employees  yr_of_estab region_of_employment  \\\n",
       "0                     N            14513         2007                 West   \n",
       "1                     N             2412         2002            Northeast   \n",
       "\n",
       "   prevailing_wage unit_of_wage full_time_position case_status  \n",
       "0         592.2029         Hour                  Y      Denied  \n",
       "1       83425.6500         Year                  Y   Certified  "
      ]
     },
     "execution_count": 2,
     "metadata": {},
     "output_type": "execute_result"
    }
   ],
   "source": [
    "visa_df=pd.read_csv(r\"C:\\Users\\keert\\Documents\\DATA SCIENCE\\nareshit\\datafiles\\Visadataset - Visadataset.csv\")\n",
    "visa_df.head(2)"
   ]
  },
  {
   "cell_type": "markdown",
   "id": "60f36c51-493c-4a23-ab45-68979322f634",
   "metadata": {},
   "source": [
    "**Standardization**\n",
    "- Standardization is a technique scale all the data under one scale\n",
    "- Different columns has different values also different units\n",
    "- some column values has bigger values , some column values has lesser values\n",
    "- so it is important to keep all the values under one scale\n",
    "- we have two methods are there\n",
    "  - Standardization\n",
    "  - Normalization\n",
    "    \n",
    "**- Standardization**\n",
    "\n",
    "     - Z-score\n",
    "     - Z score varies values from -3 to 3"
   ]
  },
  {
   "cell_type": "markdown",
   "id": "208faa67-b7c1-40fd-86fb-6d54d79c7495",
   "metadata": {},
   "source": [
    "<img id=\"dimg_25\" src=\"data:image/png;base64,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\" class=\"YQ4gaf\" height=\"192\" style=\"object-position:0% 100%\" width=\"262\" alt=\"Z-Score Formula\" data-csiid=\"36\" data-atf=\"4\">"
   ]
  },
  {
   "cell_type": "markdown",
   "id": "46f7b266-835c-4a61-8f08-8133e82d2c03",
   "metadata": {},
   "source": [
    "<img id=\"dimg_381\" src=\"data:image/jpeg;base64,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\" class=\"YQ4gaf\" height=\"193\" style=\"object-position:25% 33%\" width=\"261\" alt=\"Data Analysis 101: The Z-Score is Your ...\" data-csiid=\"34\" data-atf=\"4\">"
   ]
  },
  {
   "cell_type": "markdown",
   "id": "e7d8f474-582c-47ad-9e7b-8cbc7dc89b20",
   "metadata": {},
   "source": [
    "**- Normalization**\n",
    "  - min max scalar\n",
    "  - values ranges from 0 to 1"
   ]
  },
  {
   "cell_type": "markdown",
   "id": "21db9ea0-7e59-4243-b39e-5fdc35b25b16",
   "metadata": {},
   "source": [
    "<img id=\"dimg_189\" src=\"data:image/png;base64,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\" class=\"YQ4gaf zr758c\" height=\"106\" style=\"object-position:0% 66%\" width=\"476\" alt=\"how MinMaxScaler() works ...\" data-csiid=\"26\" data-atf=\"4\">"
   ]
  },
  {
   "cell_type": "markdown",
   "id": "99507df3-debb-4ced-ac5f-d3bb56ac520b",
   "metadata": {},
   "source": [
    "**task**\n",
    "- step-1: take prevailing wage column : **visa_df['prevailing_wage']**\n",
    "  \n",
    "- step-2: calculate mean value of prevailing wage : **visa_df['prevailing_wage'].mean**\n",
    "  \n",
    "- step-3: calculate standard deviation of prevailing wage  : **visa_df['prevailing_wage'].std**\n",
    "  \n",
    "- step-4: calculate the NR : step-1 - step-2  : **visa_df['prevailing_wage']-mean**\n",
    "  \n",
    "- step-5: divide the step4/step3"
   ]
  },
  {
   "cell_type": "code",
   "execution_count": 4,
   "id": "8b068497-045a-4a87-bcf1-c24c35c395b2",
   "metadata": {},
   "outputs": [
    {
     "data": {
      "text/plain": [
       "0           592.2029\n",
       "1         83425.6500\n",
       "2        122996.8600\n",
       "3         83434.0300\n",
       "4        149907.3900\n",
       "            ...     \n",
       "25475     77092.5700\n",
       "25476    279174.7900\n",
       "25477    146298.8500\n",
       "25478     86154.7700\n",
       "25479     70876.9100\n",
       "Name: prevailing_wage, Length: 25480, dtype: float64"
      ]
     },
     "execution_count": 4,
     "metadata": {},
     "output_type": "execute_result"
    }
   ],
   "source": [
    "# step-1\n",
    "visa_df['prevailing_wage']"
   ]
  },
  {
   "cell_type": "code",
   "execution_count": 8,
   "id": "fcf1b5df-86cf-4d62-b06a-7f292d7727c5",
   "metadata": {},
   "outputs": [],
   "source": [
    "# step-2\n",
    "mean=visa_df['prevailing_wage'].mean()"
   ]
  },
  {
   "cell_type": "code",
   "execution_count": 9,
   "id": "149afef5-57dc-4719-acfc-e5352474d756",
   "metadata": {},
   "outputs": [],
   "source": [
    "# step-3\n",
    "std=visa_df['prevailing_wage'].std()"
   ]
  },
  {
   "cell_type": "code",
   "execution_count": 11,
   "id": "71254f73-50b6-431a-9b39-68eee3e6eb78",
   "metadata": {},
   "outputs": [],
   "source": [
    "# step-4\n",
    "Nr=visa_df['prevailing_wage']-mean"
   ]
  },
  {
   "cell_type": "code",
   "execution_count": 14,
   "id": "a0089223-493d-4f9c-9e97-56f1aa2479ae",
   "metadata": {},
   "outputs": [
    {
     "data": {
      "text/html": [
       "<div>\n",
       "<style scoped>\n",
       "    .dataframe tbody tr th:only-of-type {\n",
       "        vertical-align: middle;\n",
       "    }\n",
       "\n",
       "    .dataframe tbody tr th {\n",
       "        vertical-align: top;\n",
       "    }\n",
       "\n",
       "    .dataframe thead th {\n",
       "        text-align: right;\n",
       "    }\n",
       "</style>\n",
       "<table border=\"1\" class=\"dataframe\">\n",
       "  <thead>\n",
       "    <tr style=\"text-align: right;\">\n",
       "      <th></th>\n",
       "      <th>case_id</th>\n",
       "      <th>continent</th>\n",
       "      <th>education_of_employee</th>\n",
       "      <th>has_job_experience</th>\n",
       "      <th>requires_job_training</th>\n",
       "      <th>no_of_employees</th>\n",
       "      <th>yr_of_estab</th>\n",
       "      <th>region_of_employment</th>\n",
       "      <th>prevailing_wage</th>\n",
       "      <th>unit_of_wage</th>\n",
       "      <th>full_time_position</th>\n",
       "      <th>case_status</th>\n",
       "      <th>prevailing_wage_z</th>\n",
       "    </tr>\n",
       "  </thead>\n",
       "  <tbody>\n",
       "    <tr>\n",
       "      <th>0</th>\n",
       "      <td>EZYV01</td>\n",
       "      <td>Asia</td>\n",
       "      <td>High School</td>\n",
       "      <td>N</td>\n",
       "      <td>N</td>\n",
       "      <td>14513</td>\n",
       "      <td>2007</td>\n",
       "      <td>West</td>\n",
       "      <td>592.2029</td>\n",
       "      <td>Hour</td>\n",
       "      <td>Y</td>\n",
       "      <td>Denied</td>\n",
       "      <td>-1.398510</td>\n",
       "    </tr>\n",
       "    <tr>\n",
       "      <th>1</th>\n",
       "      <td>EZYV02</td>\n",
       "      <td>Asia</td>\n",
       "      <td>Master's</td>\n",
       "      <td>Y</td>\n",
       "      <td>N</td>\n",
       "      <td>2412</td>\n",
       "      <td>2002</td>\n",
       "      <td>Northeast</td>\n",
       "      <td>83425.6500</td>\n",
       "      <td>Year</td>\n",
       "      <td>Y</td>\n",
       "      <td>Certified</td>\n",
       "      <td>0.169832</td>\n",
       "    </tr>\n",
       "    <tr>\n",
       "      <th>2</th>\n",
       "      <td>EZYV03</td>\n",
       "      <td>Asia</td>\n",
       "      <td>Bachelor's</td>\n",
       "      <td>N</td>\n",
       "      <td>Y</td>\n",
       "      <td>44444</td>\n",
       "      <td>2008</td>\n",
       "      <td>West</td>\n",
       "      <td>122996.8600</td>\n",
       "      <td>Year</td>\n",
       "      <td>Y</td>\n",
       "      <td>Denied</td>\n",
       "      <td>0.919060</td>\n",
       "    </tr>\n",
       "    <tr>\n",
       "      <th>3</th>\n",
       "      <td>EZYV04</td>\n",
       "      <td>Asia</td>\n",
       "      <td>Bachelor's</td>\n",
       "      <td>N</td>\n",
       "      <td>N</td>\n",
       "      <td>98</td>\n",
       "      <td>1897</td>\n",
       "      <td>West</td>\n",
       "      <td>83434.0300</td>\n",
       "      <td>Year</td>\n",
       "      <td>Y</td>\n",
       "      <td>Denied</td>\n",
       "      <td>0.169991</td>\n",
       "    </tr>\n",
       "    <tr>\n",
       "      <th>4</th>\n",
       "      <td>EZYV05</td>\n",
       "      <td>Africa</td>\n",
       "      <td>Master's</td>\n",
       "      <td>Y</td>\n",
       "      <td>N</td>\n",
       "      <td>1082</td>\n",
       "      <td>2005</td>\n",
       "      <td>South</td>\n",
       "      <td>149907.3900</td>\n",
       "      <td>Year</td>\n",
       "      <td>Y</td>\n",
       "      <td>Certified</td>\n",
       "      <td>1.428576</td>\n",
       "    </tr>\n",
       "    <tr>\n",
       "      <th>...</th>\n",
       "      <td>...</td>\n",
       "      <td>...</td>\n",
       "      <td>...</td>\n",
       "      <td>...</td>\n",
       "      <td>...</td>\n",
       "      <td>...</td>\n",
       "      <td>...</td>\n",
       "      <td>...</td>\n",
       "      <td>...</td>\n",
       "      <td>...</td>\n",
       "      <td>...</td>\n",
       "      <td>...</td>\n",
       "      <td>...</td>\n",
       "    </tr>\n",
       "    <tr>\n",
       "      <th>25475</th>\n",
       "      <td>EZYV25476</td>\n",
       "      <td>Asia</td>\n",
       "      <td>Bachelor's</td>\n",
       "      <td>Y</td>\n",
       "      <td>Y</td>\n",
       "      <td>2601</td>\n",
       "      <td>2008</td>\n",
       "      <td>South</td>\n",
       "      <td>77092.5700</td>\n",
       "      <td>Year</td>\n",
       "      <td>Y</td>\n",
       "      <td>Certified</td>\n",
       "      <td>0.049923</td>\n",
       "    </tr>\n",
       "    <tr>\n",
       "      <th>25476</th>\n",
       "      <td>EZYV25477</td>\n",
       "      <td>Asia</td>\n",
       "      <td>High School</td>\n",
       "      <td>Y</td>\n",
       "      <td>N</td>\n",
       "      <td>3274</td>\n",
       "      <td>2006</td>\n",
       "      <td>Northeast</td>\n",
       "      <td>279174.7900</td>\n",
       "      <td>Year</td>\n",
       "      <td>Y</td>\n",
       "      <td>Certified</td>\n",
       "      <td>3.876083</td>\n",
       "    </tr>\n",
       "    <tr>\n",
       "      <th>25477</th>\n",
       "      <td>EZYV25478</td>\n",
       "      <td>Asia</td>\n",
       "      <td>Master's</td>\n",
       "      <td>Y</td>\n",
       "      <td>N</td>\n",
       "      <td>1121</td>\n",
       "      <td>1910</td>\n",
       "      <td>South</td>\n",
       "      <td>146298.8500</td>\n",
       "      <td>Year</td>\n",
       "      <td>N</td>\n",
       "      <td>Certified</td>\n",
       "      <td>1.360253</td>\n",
       "    </tr>\n",
       "    <tr>\n",
       "      <th>25478</th>\n",
       "      <td>EZYV25479</td>\n",
       "      <td>Asia</td>\n",
       "      <td>Master's</td>\n",
       "      <td>Y</td>\n",
       "      <td>Y</td>\n",
       "      <td>1918</td>\n",
       "      <td>1887</td>\n",
       "      <td>West</td>\n",
       "      <td>86154.7700</td>\n",
       "      <td>Year</td>\n",
       "      <td>Y</td>\n",
       "      <td>Certified</td>\n",
       "      <td>0.221504</td>\n",
       "    </tr>\n",
       "    <tr>\n",
       "      <th>25479</th>\n",
       "      <td>EZYV25480</td>\n",
       "      <td>Asia</td>\n",
       "      <td>Bachelor's</td>\n",
       "      <td>Y</td>\n",
       "      <td>N</td>\n",
       "      <td>3195</td>\n",
       "      <td>1960</td>\n",
       "      <td>Midwest</td>\n",
       "      <td>70876.9100</td>\n",
       "      <td>Year</td>\n",
       "      <td>Y</td>\n",
       "      <td>Certified</td>\n",
       "      <td>-0.067762</td>\n",
       "    </tr>\n",
       "  </tbody>\n",
       "</table>\n",
       "<p>25480 rows × 13 columns</p>\n",
       "</div>"
      ],
      "text/plain": [
       "         case_id continent education_of_employee has_job_experience  \\\n",
       "0         EZYV01      Asia           High School                  N   \n",
       "1         EZYV02      Asia              Master's                  Y   \n",
       "2         EZYV03      Asia            Bachelor's                  N   \n",
       "3         EZYV04      Asia            Bachelor's                  N   \n",
       "4         EZYV05    Africa              Master's                  Y   \n",
       "...          ...       ...                   ...                ...   \n",
       "25475  EZYV25476      Asia            Bachelor's                  Y   \n",
       "25476  EZYV25477      Asia           High School                  Y   \n",
       "25477  EZYV25478      Asia              Master's                  Y   \n",
       "25478  EZYV25479      Asia              Master's                  Y   \n",
       "25479  EZYV25480      Asia            Bachelor's                  Y   \n",
       "\n",
       "      requires_job_training  no_of_employees  yr_of_estab  \\\n",
       "0                         N            14513         2007   \n",
       "1                         N             2412         2002   \n",
       "2                         Y            44444         2008   \n",
       "3                         N               98         1897   \n",
       "4                         N             1082         2005   \n",
       "...                     ...              ...          ...   \n",
       "25475                     Y             2601         2008   \n",
       "25476                     N             3274         2006   \n",
       "25477                     N             1121         1910   \n",
       "25478                     Y             1918         1887   \n",
       "25479                     N             3195         1960   \n",
       "\n",
       "      region_of_employment  prevailing_wage unit_of_wage full_time_position  \\\n",
       "0                     West         592.2029         Hour                  Y   \n",
       "1                Northeast       83425.6500         Year                  Y   \n",
       "2                     West      122996.8600         Year                  Y   \n",
       "3                     West       83434.0300         Year                  Y   \n",
       "4                    South      149907.3900         Year                  Y   \n",
       "...                    ...              ...          ...                ...   \n",
       "25475                South       77092.5700         Year                  Y   \n",
       "25476            Northeast      279174.7900         Year                  Y   \n",
       "25477                South      146298.8500         Year                  N   \n",
       "25478                 West       86154.7700         Year                  Y   \n",
       "25479              Midwest       70876.9100         Year                  Y   \n",
       "\n",
       "      case_status  prevailing_wage_z  \n",
       "0          Denied          -1.398510  \n",
       "1       Certified           0.169832  \n",
       "2          Denied           0.919060  \n",
       "3          Denied           0.169991  \n",
       "4       Certified           1.428576  \n",
       "...           ...                ...  \n",
       "25475   Certified           0.049923  \n",
       "25476   Certified           3.876083  \n",
       "25477   Certified           1.360253  \n",
       "25478   Certified           0.221504  \n",
       "25479   Certified          -0.067762  \n",
       "\n",
       "[25480 rows x 13 columns]"
      ]
     },
     "execution_count": 14,
     "metadata": {},
     "output_type": "execute_result"
    }
   ],
   "source": [
    "#step-5\n",
    "visa_df['prevailing_wage_z']=Nr/std\n",
    "visa_df"
   ]
  },
  {
   "cell_type": "markdown",
   "id": "59148955-2845-4789-b814-32dd0fc63aba",
   "metadata": {},
   "source": [
    "**task-3**\n",
    "- compare thetwo columns\n",
    "- get the maximum value and minimum value of the indexes\n",
    "- the both indexes should match"
   ]
  },
  {
   "cell_type": "markdown",
   "id": "1ce686c1-9079-43a9-b646-a252a218b114",
   "metadata": {},
   "source": [
    "**idxmax- idxmin**"
   ]
  },
  {
   "cell_type": "code",
   "execution_count": 18,
   "id": "01745179-e8aa-4090-abef-6a444980350e",
   "metadata": {},
   "outputs": [
    {
     "data": {
      "text/plain": [
       "((21077, 21077), (20575, 20575))"
      ]
     },
     "execution_count": 18,
     "metadata": {},
     "output_type": "execute_result"
    }
   ],
   "source": [
    "maxx=visa_df['prevailing_wage'].idxmax(),visa_df['prevailing_wage_z'].idxmax()\n",
    "minn=visa_df['prevailing_wage'].idxmin(),visa_df['prevailing_wage_z'].idxmin()\n",
    "maxx,minn"
   ]
  },
  {
   "cell_type": "code",
   "execution_count": 19,
   "id": "09c6e810-c5ec-4c2e-a9ca-13b705aa1218",
   "metadata": {},
   "outputs": [
    {
     "data": {
      "text/plain": [
       "((319210.27, 4.634101837909902), (2.1367, -1.4096818992891214))"
      ]
     },
     "execution_count": 19,
     "metadata": {},
     "output_type": "execute_result"
    }
   ],
   "source": [
    "max_val=visa_df['prevailing_wage'].max(),visa_df['prevailing_wage_z'].max()\n",
    "min_val=visa_df['prevailing_wage'].min(),visa_df['prevailing_wage_z'].min()\n",
    "\n",
    "max_val,min_val"
   ]
  },
  {
   "cell_type": "markdown",
   "id": "e5330ffc-4019-4437-b15f-2a3e5026c89b",
   "metadata": {},
   "source": [
    "**StandardiScalar**\n",
    "- StandardiScalar same as Z-score but by using package\n",
    "- It is under sklearn package\n",
    "- In the sklearn we have preprocessing\n",
    "- Read the data again\n",
    "- save the package\n",
    "- apply fit transform\n",
    "- compare 3 columns\n",
    "     - one is original \n",
    "     - Manually we did z-score\n",
    "     - column with package"
   ]
  },
  {
   "cell_type": "code",
   "execution_count": 21,
   "id": "20bb5f21-4814-47a3-9b2f-dec4c1536e4b",
   "metadata": {},
   "outputs": [],
   "source": [
    "from sklearn.preprocessing import StandardScaler\n",
    "\n",
    "ss= StandardScaler()\n",
    "\n",
    "visa_df['prevailing_wage_ss']=ss.fit_transform(visa_df[['prevailing_wage']])"
   ]
  },
  {
   "cell_type": "markdown",
   "id": "25147f0a-e5a6-4803-bd6d-6957801cdfbe",
   "metadata": {},
   "source": [
    "- single square bracket is series \n",
    "- double square bracket is Data frame\n",
    "- whwnever you see shape error apply double square bracket"
   ]
  },
  {
   "cell_type": "code",
   "execution_count": 22,
   "id": "5defe9aa-cec1-4f1a-be21-b9e2e4feab16",
   "metadata": {},
   "outputs": [
    {
     "data": {
      "text/html": [
       "<div>\n",
       "<style scoped>\n",
       "    .dataframe tbody tr th:only-of-type {\n",
       "        vertical-align: middle;\n",
       "    }\n",
       "\n",
       "    .dataframe tbody tr th {\n",
       "        vertical-align: top;\n",
       "    }\n",
       "\n",
       "    .dataframe thead th {\n",
       "        text-align: right;\n",
       "    }\n",
       "</style>\n",
       "<table border=\"1\" class=\"dataframe\">\n",
       "  <thead>\n",
       "    <tr style=\"text-align: right;\">\n",
       "      <th></th>\n",
       "      <th>prevailing_wage</th>\n",
       "      <th>prevailing_wage_z</th>\n",
       "      <th>prevailing_wage_ss</th>\n",
       "    </tr>\n",
       "  </thead>\n",
       "  <tbody>\n",
       "    <tr>\n",
       "      <th>0</th>\n",
       "      <td>592.2029</td>\n",
       "      <td>-1.398510</td>\n",
       "      <td>-1.398537</td>\n",
       "    </tr>\n",
       "    <tr>\n",
       "      <th>1</th>\n",
       "      <td>83425.6500</td>\n",
       "      <td>0.169832</td>\n",
       "      <td>0.169835</td>\n",
       "    </tr>\n",
       "    <tr>\n",
       "      <th>2</th>\n",
       "      <td>122996.8600</td>\n",
       "      <td>0.919060</td>\n",
       "      <td>0.919079</td>\n",
       "    </tr>\n",
       "    <tr>\n",
       "      <th>3</th>\n",
       "      <td>83434.0300</td>\n",
       "      <td>0.169991</td>\n",
       "      <td>0.169994</td>\n",
       "    </tr>\n",
       "    <tr>\n",
       "      <th>4</th>\n",
       "      <td>149907.3900</td>\n",
       "      <td>1.428576</td>\n",
       "      <td>1.428604</td>\n",
       "    </tr>\n",
       "    <tr>\n",
       "      <th>...</th>\n",
       "      <td>...</td>\n",
       "      <td>...</td>\n",
       "      <td>...</td>\n",
       "    </tr>\n",
       "    <tr>\n",
       "      <th>25475</th>\n",
       "      <td>77092.5700</td>\n",
       "      <td>0.049923</td>\n",
       "      <td>0.049924</td>\n",
       "    </tr>\n",
       "    <tr>\n",
       "      <th>25476</th>\n",
       "      <td>279174.7900</td>\n",
       "      <td>3.876083</td>\n",
       "      <td>3.876159</td>\n",
       "    </tr>\n",
       "    <tr>\n",
       "      <th>25477</th>\n",
       "      <td>146298.8500</td>\n",
       "      <td>1.360253</td>\n",
       "      <td>1.360280</td>\n",
       "    </tr>\n",
       "    <tr>\n",
       "      <th>25478</th>\n",
       "      <td>86154.7700</td>\n",
       "      <td>0.221504</td>\n",
       "      <td>0.221509</td>\n",
       "    </tr>\n",
       "    <tr>\n",
       "      <th>25479</th>\n",
       "      <td>70876.9100</td>\n",
       "      <td>-0.067762</td>\n",
       "      <td>-0.067763</td>\n",
       "    </tr>\n",
       "  </tbody>\n",
       "</table>\n",
       "<p>25480 rows × 3 columns</p>\n",
       "</div>"
      ],
      "text/plain": [
       "       prevailing_wage  prevailing_wage_z  prevailing_wage_ss\n",
       "0             592.2029          -1.398510           -1.398537\n",
       "1           83425.6500           0.169832            0.169835\n",
       "2          122996.8600           0.919060            0.919079\n",
       "3           83434.0300           0.169991            0.169994\n",
       "4          149907.3900           1.428576            1.428604\n",
       "...                ...                ...                 ...\n",
       "25475       77092.5700           0.049923            0.049924\n",
       "25476      279174.7900           3.876083            3.876159\n",
       "25477      146298.8500           1.360253            1.360280\n",
       "25478       86154.7700           0.221504            0.221509\n",
       "25479       70876.9100          -0.067762           -0.067763\n",
       "\n",
       "[25480 rows x 3 columns]"
      ]
     },
     "execution_count": 22,
     "metadata": {},
     "output_type": "execute_result"
    }
   ],
   "source": [
    "visa_df[['prevailing_wage','prevailing_wage_z','prevailing_wage_ss']]"
   ]
  },
  {
   "cell_type": "markdown",
   "id": "e072a5bb-31b2-4b71-939c-cdf468ea252c",
   "metadata": {},
   "source": [
    "**Normalization**\n",
    "- Read the data again\n",
    "**task**\n",
    "- step-1: take prevailing wage column : **visa_df['prevailing_wage']**\n",
    "\n",
    "- step-2: calculate the min value of prevailing wage :min= **visa_df['prevailing_wage'].min**\n",
    "\n",
    "- step-3: calculate the max value of prevailing wage  : **visa_df['prevailing_wage'].max**\n",
    "\n",
    "- step-4: calculate the NR : step-1 - step-2  : **visa_df['prevailing_wage']-min**\n",
    "\n",
    "- step-5: DR=step3-step-2\n",
    "\n",
    "- step-5: divide the step/step5"
   ]
  },
  {
   "cell_type": "markdown",
   "id": "d861743e-2001-46d2-ac43-1efbf4905428",
   "metadata": {},
   "source": [
    "**package name: MinMaxScalar**"
   ]
  },
  {
   "cell_type": "code",
   "execution_count": 23,
   "id": "bcf83a59-b650-4337-9528-17cdcb3d8127",
   "metadata": {},
   "outputs": [
    {
     "data": {
      "text/plain": [
       "0           592.2029\n",
       "1         83425.6500\n",
       "2        122996.8600\n",
       "3         83434.0300\n",
       "4        149907.3900\n",
       "            ...     \n",
       "25475     77092.5700\n",
       "25476    279174.7900\n",
       "25477    146298.8500\n",
       "25478     86154.7700\n",
       "25479     70876.9100\n",
       "Name: prevailing_wage, Length: 25480, dtype: float64"
      ]
     },
     "execution_count": 23,
     "metadata": {},
     "output_type": "execute_result"
    }
   ],
   "source": [
    "visa_df['prevailing_wage']"
   ]
  },
  {
   "cell_type": "code",
   "execution_count": 29,
   "id": "656a8a5f-9543-4fb7-9093-573091c514c3",
   "metadata": {},
   "outputs": [
    {
     "name": "stdout",
     "output_type": "stream",
     "text": [
      "0        540.970036\n",
      "1          3.826357\n",
      "2          2.595299\n",
      "3          3.825973\n",
      "4          2.129399\n",
      "            ...    \n",
      "25475      4.140697\n",
      "25476      1.143408\n",
      "25477      2.181923\n",
      "25478      3.705147\n",
      "25479      4.503833\n",
      "Name: prevailing_wage, Length: 25480, dtype: float64\n"
     ]
    }
   ],
   "source": [
    "min=visa_df['prevailing_wage'].min()\n",
    "max=visa_df['prevailing_wage'].max()\n",
    "\n",
    "nr=visa_df['prevailing_wage']-min\n",
    "dr=max-min\n",
    "print(dr/nr)"
   ]
  },
  {
   "cell_type": "code",
   "execution_count": null,
   "id": "09877030-58e3-4fdb-a2a8-a9afa7b965d1",
   "metadata": {},
   "outputs": [],
   "source": []
  }
 ],
 "metadata": {
  "kernelspec": {
   "display_name": "Python 3 (ipykernel)",
   "language": "python",
   "name": "python3"
  },
  "language_info": {
   "codemirror_mode": {
    "name": "ipython",
    "version": 3
   },
   "file_extension": ".py",
   "mimetype": "text/x-python",
   "name": "python",
   "nbconvert_exporter": "python",
   "pygments_lexer": "ipython3",
   "version": "3.11.7"
  }
 },
 "nbformat": 4,
 "nbformat_minor": 5
}
